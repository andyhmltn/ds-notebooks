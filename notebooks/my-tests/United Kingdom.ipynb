{
 "cells": [
  {
   "cell_type": "code",
   "execution_count": 7,
   "metadata": {
    "collapsed": true
   },
   "outputs": [],
   "source": [
    "import pandas as pd\n",
    "from functools import reduce\n",
    "\n",
    "brexit_data = pd.read_csv('brexit.csv')\n",
    "leave_data = pd.read_csv('leave_eu.csv')"
   ]
  },
  {
   "cell_type": "code",
   "execution_count": 8,
   "metadata": {},
   "outputs": [
    {
     "data": {
      "text/plain": [
       "226"
      ]
     },
     "execution_count": 8,
     "metadata": {},
     "output_type": "execute_result"
    }
   ],
   "source": [
    "brexit_data.head()\n",
    "reduce(lambda x, y: x + y, brexit_data['total_posts'])"
   ]
  },
  {
   "cell_type": "markdown",
   "metadata": {},
   "source": [
    "## leave_data.head()"
   ]
  },
  {
   "cell_type": "code",
   "execution_count": 6,
   "metadata": {},
   "outputs": [
    {
     "data": {
      "image/png": "[encoded data removed]",
      "text/plain": [
       "<matplotlib.figure.Figure at 0x7f425b540cc0>"
      ]
     },
     "metadata": {},
     "output_type": "display_data"
    }
   ],
   "source": [
    "import matplotlib.pyplot as plt\n",
    "import numpy as np\n",
    "import scipy as sp\n",
    "\n",
    "from matplotlib.dates import YearLocator, MonthLocator, DateFormatter\n",
    "\n",
    "years = YearLocator()   # every year\n",
    "months = MonthLocator()  # every month\n",
    "yearsFmt = DateFormatter('%Y')\n",
    "\n",
    "brexit_data = brexit_data.sort_values(by=['month_submitted'])\n",
    "leave_data = leave_data.sort_values(by=['month_submitted'])\n",
    "\n",
    "#brexit_data['month_submitted'] = pd.to_datetime(brexit_data['month_submitted'], format='%Y-%m-%d')\n",
    "brexit_data['total_posts'] = brexit_data['total_posts'].apply(pd.to_numeric)\n",
    "leave_data['total_posts'] = leave_data['total_posts'].apply(pd.to_numeric)\n",
    "\n",
    "ax = plt.subplot(111)\n",
    "\n",
    "ax.xaxis.set_major_locator(years)\n",
    "ax.xaxis.set_major_formatter(yearsFmt)\n",
    "ax.xaxis.set_minor_locator(months)\n",
    "\n",
    "#plt.show()\n",
    "\n",
    "ax.plot_date(brexit_data['month_submitted'], brexit_data['total_posts'], 'c-')\n",
    "#ax.plot_date(leave_data['month_submitted'], leave_data['total_posts'], 'b-')\n",
    "ax.xaxis_date()\n",
    "\n",
    "plt.show()"
   ]
  },
  {
   "cell_type": "code",
   "execution_count": null,
   "metadata": {
    "collapsed": true
   },
   "outputs": [],
   "source": []
  },
  {
   "cell_type": "code",
   "execution_count": null,
   "metadata": {
    "collapsed": true
   },
   "outputs": [],
   "source": []
  }
 ],
 "metadata": {
  "kernelspec": {
   "display_name": "Python 3",
   "language": "python",
   "name": "python3"
  },
  "language_info": {
   "codemirror_mode": {
    "name": "ipython",
    "version": 3
   },
   "file_extension": ".py",
   "mimetype": "text/x-python",
   "name": "python",
   "nbconvert_exporter": "python",
   "pygments_lexer": "ipython3",
   "version": "3.6.1"
  }
 },
 "nbformat": 4,
 "nbformat_minor": 2
}
