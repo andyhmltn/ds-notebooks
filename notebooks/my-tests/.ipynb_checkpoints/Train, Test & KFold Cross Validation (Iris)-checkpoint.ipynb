{
 "cells": [
  {
   "cell_type": "code",
   "execution_count": null,
   "metadata": {
    "collapsed": true
   },
   "outputs": [],
   "source": [
    "import numpy py\n",
    "# For doing train test / kfold\n",
    "from sklearn.model_selection import cross_val_score, train_test_split\n",
    "# For the iris dataset\n",
    "from sklearn.datasets import load_iris\n",
    "# For modelling the dataset\n",
    "# TODO: Look at the svm worksheet\n",
    "from sklearn import svm"
   ]
  }
 ],
 "metadata": {
  "kernelspec": {
   "display_name": "Python 3",
   "language": "python",
   "name": "python3"
  },
  "language_info": {
   "codemirror_mode": {
    "name": "ipython",
    "version": 3
   },
   "file_extension": ".py",
   "mimetype": "text/x-python",
   "name": "python",
   "nbconvert_exporter": "python",
   "pygments_lexer": "ipython3",
   "version": "3.6.1"
  }
 },
 "nbformat": 4,
 "nbformat_minor": 2
}
